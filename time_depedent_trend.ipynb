{
 "cells": [
  {
   "cell_type": "code",
   "execution_count": 4,
   "metadata": {},
   "outputs": [],
   "source": [
    "import pandas as pd\n",
    "import matplotlib.pyplot as plt\n",
    "import numpy as np\n",
    "from scipy.fftpack import fft\n",
    "from datetime import datetime\n",
    "\n"
   ]
  },
  {
   "cell_type": "markdown",
   "metadata": {},
   "source": [
    "**What This Code Does**  \n",
    "\n",
    "Filters data to only include one reagent master lot (first one found).  \n",
    "\n",
    "Plots test results over time to visualize trends.  \n",
    "\n",
    "Computes and plots a rolling average to detect gradual shifts.  \n",
    "\n",
    "Performs a Fourier Transform (FFT) to analyze periodic fluctuations. \n",
    " \n"
   ]
  },
  {
   "cell_type": "code",
   "execution_count": null,
   "metadata": {},
   "outputs": [],
   "source": [
    "file_path = \"/Users/abalusawudu/Desktop/Capstone/Capstone-Project/alinity_data_set_1.csv\"\n",
    "df = pd.read_csv(file_path)\n",
    "\n",
    "df['datetimestamplocal'] = pd.to_datetime(df['Unnamed: 0'])\n",
    "\n",
    "df = df.dropna(subset=['correctedcount'])\n",
    "\n",
    "df = df.sort_values(by='datetimestamplocal')\n",
    "\n",
    "selected_lot = df['reagentmasterlotnumber'].iloc[0]  # Select first available lot\n",
    "df_filtered = df[df['reagentmasterlotnumber'] == selected_lot]\n",
    "\n",
    "# Plot test results over time (Filtered by single reagent lot)\n",
    "plt.figure(figsize=(12, 6))\n",
    "plt.scatter(df_filtered['datetimestamplocal'], df_filtered['correctedcount'], alpha=0.5, s=10)\n",
    "plt.xlabel(\"Timestamp\")\n",
    "plt.ylabel(\"Test Result (Corrected Count)\")\n",
    "plt.title(f\"Test Results Over Time (Reagent Lot: {selected_lot})\")\n",
    "plt.xticks(rotation=45)\n",
    "plt.grid()\n",
    "plt.show()\n",
    "\n",
    "# Compute and plot a rolling average (50-sample window) for filtered data\n",
    "df_filtered['rolling_avg'] = df_filtered['correctedcount'].rolling(window=50, min_periods=1).mean()\n",
    "\n",
    "plt.figure(figsize=(12, 6))\n",
    "plt.plot(df_filtered['datetimestamplocal'], df_filtered['correctedcount'], alpha=0.4, label=\"Raw Data\")\n",
    "plt.plot(df_filtered['datetimestamplocal'], df_filtered['rolling_avg'], color='red', label=\"Rolling Average (50 Samples)\")\n",
    "plt.xlabel(\"Timestamp\")\n",
    "plt.ylabel(\"Test Result (Corrected Count)\")\n",
    "plt.title(f\"Rolling Average of Test Results Over Time (Reagent Lot: {selected_lot})\")\n",
    "plt.xticks(rotation=45)\n",
    "plt.legend()\n",
    "plt.grid()\n",
    "plt.show()\n",
    "\n",
    "# Perform Fourier Transform to detect periodic trends\n",
    "df_filtered['time_seconds'] = (df_filtered['datetimestamplocal'] - df_filtered['datetimestamplocal'].min()).dt.total_seconds()\n",
    "\n",
    "signal_filtered = df_filtered['correctedcount'].values\n",
    "N_filtered = len(signal_filtered)\n",
    "freqs_filtered = np.fft.fftfreq(N_filtered, d=(df_filtered['time_seconds'].max() - df_filtered['time_seconds'].min()) / N_filtered)\n",
    "fft_values_filtered = np.abs(fft(signal_filtered))\n",
    "\n",
    "# Plot FFT result for filtered data\n",
    "plt.figure(figsize=(12, 6))\n",
    "plt.plot(freqs_filtered[:N_filtered // 2], fft_values_filtered[:N_filtered // 2])  # Only positive frequencies\n",
    "plt.xlabel(\"Frequency (Hz)\")\n",
    "plt.ylabel(\"Magnitude\")\n",
    "plt.title(f\"Fourier Transform of Test Results (Reagent Lot: {selected_lot})\")\n",
    "plt.grid()\n",
    "plt.show()\n"
   ]
  },
  {
   "cell_type": "code",
   "execution_count": null,
   "metadata": {},
   "outputs": [],
   "source": []
  }
 ],
 "metadata": {
  "kernelspec": {
   "display_name": "base",
   "language": "python",
   "name": "python3"
  },
  "language_info": {
   "codemirror_mode": {
    "name": "ipython",
    "version": 3
   },
   "file_extension": ".py",
   "mimetype": "text/x-python",
   "name": "python",
   "nbconvert_exporter": "python",
   "pygments_lexer": "ipython3",
   "version": "3.11.4"
  }
 },
 "nbformat": 4,
 "nbformat_minor": 2
}
